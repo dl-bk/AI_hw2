{
  "nbformat": 4,
  "nbformat_minor": 0,
  "metadata": {
    "colab": {
      "provenance": [],
      "toc_visible": true,
      "include_colab_link": true
    },
    "kernelspec": {
      "name": "python3",
      "display_name": "Python 3"
    },
    "language_info": {
      "name": "python"
    }
  },
  "cells": [
    {
      "cell_type": "markdown",
      "metadata": {
        "id": "view-in-github",
        "colab_type": "text"
      },
      "source": [
        "<a href=\"https://colab.research.google.com/github/dl-bk/AI_hw2/blob/master/module2/hw2.ipynb\" target=\"_parent\"><img src=\"https://colab.research.google.com/assets/colab-badge.svg\" alt=\"Open In Colab\"/></a>"
      ]
    },
    {
      "cell_type": "markdown",
      "source": [
        "Імпортуйте модуль numpy"
      ],
      "metadata": {
        "id": "tk2sNnUDkXK9"
      }
    },
    {
      "cell_type": "code",
      "source": [
        "import numpy as np\n"
      ],
      "metadata": {
        "id": "1QbCsQ62kUmZ"
      },
      "execution_count": 2,
      "outputs": []
    },
    {
      "cell_type": "markdown",
      "source": [
        "#Завдання 1\n",
        "\n",
        "Створіть масив з парними числами між 30 і 70"
      ],
      "metadata": {
        "id": "ZVC4Yb3JZFO1"
      }
    },
    {
      "cell_type": "code",
      "source": [
        "a = np.arange(30,71,2)\n",
        "print(a)"
      ],
      "metadata": {
        "id": "aunm4Jm_hUkL",
        "outputId": "06d10a50-a493-4bda-f3c3-53835a97cb16",
        "colab": {
          "base_uri": "https://localhost:8080/"
        }
      },
      "execution_count": 25,
      "outputs": [
        {
          "output_type": "stream",
          "name": "stdout",
          "text": [
            "[30 32 34 36 38 40 42 44 46 48 50 52 54 56 58 60 62 64 66 68 70]\n"
          ]
        }
      ]
    },
    {
      "cell_type": "markdown",
      "source": [
        "#Завдання 2\n",
        "Створіть масив з 10 числами між 0(включно) та 1(не включно) див документацію"
      ],
      "metadata": {
        "id": "UDSLr3f0b31r"
      }
    },
    {
      "cell_type": "code",
      "source": [
        "b = np.linspace(0,1,10,endpoint=False)\n",
        "print(b)"
      ],
      "metadata": {
        "id": "w7iNkGd_hUM-",
        "outputId": "6c4bbd73-55dd-408f-da9e-b31f333643ef",
        "colab": {
          "base_uri": "https://localhost:8080/"
        }
      },
      "execution_count": 28,
      "outputs": [
        {
          "output_type": "stream",
          "name": "stdout",
          "text": [
            "[0.  0.1 0.2 0.3 0.4 0.5 0.6 0.7 0.8 0.9]\n"
          ]
        }
      ]
    },
    {
      "cell_type": "markdown",
      "source": [
        "#Завдання 4\n",
        "Напишіть функцію яка приймає матрицю розміру nxn та повертає матрицю розміру (n+2) x (n+2), на краях якої розміщенні 0."
      ],
      "metadata": {
        "id": "rtWKmLWhYi_j"
      }
    },
    {
      "cell_type": "code",
      "source": [
        "def funct(matrix):\n",
        "  new_matrix = np.pad(matrix, ((1,1), (1,1)), mode='constant', constant_values=0)\n",
        "  return new_matrix\n",
        "\n",
        "matrix = np.arange(1,5)\n",
        "matrix = np.reshape(matrix, (2,2))\n",
        "matrix = funct(matrix)\n",
        "print(matrix)"
      ],
      "metadata": {
        "id": "mU7vjsnqhVfk",
        "colab": {
          "base_uri": "https://localhost:8080/"
        },
        "outputId": "6891947b-0376-43e4-a827-320fc7e36a75"
      },
      "execution_count": 32,
      "outputs": [
        {
          "output_type": "stream",
          "name": "stdout",
          "text": [
            "[[0 0 0 0]\n",
            " [0 1 2 0]\n",
            " [0 3 4 0]\n",
            " [0 0 0 0]]\n"
          ]
        }
      ]
    },
    {
      "cell_type": "markdown",
      "source": [
        "#Завдання 5\n",
        "У попередьньому масиві змініть тип даних. Виведіть тип даних до та після зміни"
      ],
      "metadata": {
        "id": "ok_hMAEJa9oh"
      }
    },
    {
      "cell_type": "code",
      "source": [
        "float_matrix = matrix.astype(np.float32)\n",
        "print(matrix.dtype)\n",
        "print(float_matrix.dtype)"
      ],
      "metadata": {
        "id": "vYlj3r3ShV98",
        "outputId": "a60c8994-371b-48c2-d1d8-44b834923e21",
        "colab": {
          "base_uri": "https://localhost:8080/"
        }
      },
      "execution_count": 33,
      "outputs": [
        {
          "output_type": "stream",
          "name": "stdout",
          "text": [
            "int64\n",
            "float32\n"
          ]
        }
      ]
    },
    {
      "cell_type": "markdown",
      "source": [
        "#Завдання 6\n",
        "У даному масиві замініть елементи, які дорівнюють\\більші\\менші за var на -1"
      ],
      "metadata": {
        "id": "aR7TWyqgZUDg"
      }
    },
    {
      "cell_type": "code",
      "source": [
        "x = np.array([1, 5, 3, 8, 6, 5, 7, 4])\n",
        "var = 5\n",
        "x[x == var] = -1\n",
        "print(x)\n",
        "x[x > var] = -1\n",
        "print(x)\n",
        "x[x < var] = -1\n",
        "print(x)"
      ],
      "metadata": {
        "id": "oPzL69Fbg2Wq",
        "outputId": "6dc0a439-b054-4389-e82d-55e50ac75a65",
        "colab": {
          "base_uri": "https://localhost:8080/"
        }
      },
      "execution_count": 35,
      "outputs": [
        {
          "output_type": "stream",
          "name": "stdout",
          "text": [
            "[ 1 -1  3  8  6 -1  7  4]\n",
            "[ 1 -1  3 -1 -1 -1 -1  4]\n",
            "[-1 -1 -1 -1 -1 -1 -1 -1]\n"
          ]
        }
      ]
    },
    {
      "cell_type": "markdown",
      "source": [
        "#Завдання 7\n",
        "Замініть пропущені значення матриці(np.nan) на -1\n",
        "\n",
        "Дивись np.isnan"
      ],
      "metadata": {
        "id": "Ks3Rtc7kajMJ"
      }
    },
    {
      "cell_type": "code",
      "source": [
        "X = np.array([[1, 2, np.nan, 4],\n",
        "              [5, np.nan, np.nan, 4],\n",
        "              [np.nan, 10, 11, np.nan]])\n",
        "\n",
        "x = np.nan_to_num(X, nan=-1)\n",
        "print(x)"
      ],
      "metadata": {
        "id": "Rr8CdINEg3Rj",
        "outputId": "9edde2c2-65cb-44b2-8cde-74fc02e84a17",
        "colab": {
          "base_uri": "https://localhost:8080/"
        }
      },
      "execution_count": 40,
      "outputs": [
        {
          "output_type": "stream",
          "name": "stdout",
          "text": [
            "[[ 1.  2. -1.  4.]\n",
            " [ 5. -1. -1.  4.]\n",
            " [-1. 10. 11. -1.]]\n"
          ]
        }
      ]
    },
    {
      "cell_type": "markdown",
      "source": [
        "#Завдання 8\n",
        "Створіть матрицю розміру 4х6 з випадковими числами. Змініть її розмір на 3х8"
      ],
      "metadata": {
        "id": "teYwjikMa0gs"
      }
    },
    {
      "cell_type": "code",
      "source": [
        "x = np.random.random((4,6))\n",
        "x = np.reshape(x,(3,8))\n",
        "print(x)"
      ],
      "metadata": {
        "id": "JhNvUJwxhXED",
        "outputId": "8c080c86-6335-4bd7-8120-2309980c9cac",
        "colab": {
          "base_uri": "https://localhost:8080/"
        }
      },
      "execution_count": 43,
      "outputs": [
        {
          "output_type": "stream",
          "name": "stdout",
          "text": [
            "[[0.11878977 0.40751195 0.52126595 0.83342172 0.16548632 0.49824686\n",
            "  0.86720932 0.7690538 ]\n",
            " [0.18996581 0.63394118 0.52748809 0.93281229 0.90416449 0.90705403\n",
            "  0.61625169 0.02741667]\n",
            " [0.2895856  0.0391545  0.00144007 0.20745186 0.19191259 0.32352595\n",
            "  0.17953176 0.08812481]]\n"
          ]
        }
      ]
    },
    {
      "cell_type": "markdown",
      "source": [
        "#Завдання 9\n",
        "Створіть матрицю з одиниць розміром 3х4. Знайдіть середнє арифметичне(mean) кожного стовпчика"
      ],
      "metadata": {
        "id": "jVE8280acszi"
      }
    },
    {
      "cell_type": "code",
      "source": [
        "ones_m = np.ones((3,4))\n",
        "mean_ones = np.mean(ones_m, axis=0)\n",
        "print(mean_ones)"
      ],
      "metadata": {
        "id": "5QI6HPNHhXd4",
        "outputId": "06c7233f-504e-416f-8e8f-31f3b08ee698",
        "colab": {
          "base_uri": "https://localhost:8080/"
        }
      },
      "execution_count": 49,
      "outputs": [
        {
          "output_type": "stream",
          "name": "stdout",
          "text": [
            "[1. 1. 1. 1.]\n"
          ]
        }
      ]
    },
    {
      "cell_type": "markdown",
      "source": [
        "#Завдання 10\n",
        "Створіть випадкову матрицю розміром 5х6. Округліть значення до одного знаку після коми(np.round). Розмістіть стовпчики так, щоб значення в першому рядку були відсортовані за зростанням"
      ],
      "metadata": {
        "id": "nK6LwLjfc9aC"
      }
    },
    {
      "cell_type": "code",
      "source": [
        "\n",
        "a = np.random.rand(5,6)\n",
        "sorted_idx = np.argsort(a[0])\n",
        "sorted_a = a[:,sorted_idx]\n",
        "rounded_a = np.round(sorted_a, 1)\n",
        "print(rounded_a)\n"
      ],
      "metadata": {
        "id": "pERBNp12hX58",
        "outputId": "96a52b05-3265-4392-89e1-2ebc96c83bbd",
        "colab": {
          "base_uri": "https://localhost:8080/"
        }
      },
      "execution_count": 34,
      "outputs": [
        {
          "output_type": "stream",
          "name": "stdout",
          "text": [
            "[[0.4 0.4 0.6 0.6 0.7 0.9]\n",
            " [0.6 0.  0.2 0.6 0.5 0.7]\n",
            " [0.5 0.4 1.  0.9 0.7 0.9]\n",
            " [0.7 1.  0.2 0.2 0.6 0.3]\n",
            " [0.7 0.4 0.1 0.  0.3 0.5]]\n"
          ]
        }
      ]
    },
    {
      "cell_type": "markdown",
      "source": [
        "#Завдання 11\n",
        "В даній матриці знайдіть всі елементи зі значенням між 3 і 6\n",
        "\n",
        "Дивись документацію np.logical_and"
      ],
      "metadata": {
        "id": "faCqq4bxiXsg"
      }
    },
    {
      "cell_type": "code",
      "source": [
        "X = np.array([[1, 2, 3, 4, 5],\n",
        "              [6, 7, 8, 9, 10],\n",
        "              [9, 8, 7, 6, 5],\n",
        "              [4, 3, 2, 1, 0]])\n",
        "\n",
        "el = X[(X>3) & (X<6)]\n",
        "print(el)"
      ],
      "metadata": {
        "id": "01ZY_c-tilOF",
        "outputId": "c4dfaa76-c640-4158-ee1c-ea075c64ee58",
        "colab": {
          "base_uri": "https://localhost:8080/"
        }
      },
      "execution_count": 28,
      "outputs": [
        {
          "output_type": "stream",
          "name": "stdout",
          "text": [
            "[4 5 5 4]\n"
          ]
        }
      ]
    },
    {
      "cell_type": "markdown",
      "source": [
        "#Завдання 12\n",
        "Створіть випадкову матрицю розміру 5х6. Нормалізуйте стовпчики: від кожного елемента ставпчика відніміть мінімальне значення та поділіть результат на різницю між максимальним та мінімальним елементом.\n",
        "\n",
        "Після цього всі значення мають бути в межах [0, 1]"
      ],
      "metadata": {
        "id": "cCZSaa3DMKxb"
      }
    },
    {
      "cell_type": "code",
      "source": [
        "b = np.random.rand(5,6)\n",
        "max_val = b.max(axis=0)\n",
        "min_val = b.min(axis=0)\n",
        "normalized_b = (b - min_val) / (max_val - min_val)\n",
        "print(normalized_b)\n",
        "print(b)"
      ],
      "metadata": {
        "id": "qnOYOAgOMqRi",
        "outputId": "3c90683c-f370-438d-fe55-414f2dcff39b",
        "colab": {
          "base_uri": "https://localhost:8080/"
        }
      },
      "execution_count": 45,
      "outputs": [
        {
          "output_type": "stream",
          "name": "stdout",
          "text": [
            "[[0.         0.11435691 0.8700342  0.7374423  0.02518318 0.63487614]\n",
            " [0.96976959 0.         0.         0.63987604 0.58156762 0.84712932]\n",
            " [0.11279202 0.59136059 1.         0.         0.         0.        ]\n",
            " [0.30027439 0.38793425 0.4336267  1.         0.52593997 1.        ]\n",
            " [1.         1.         0.80067191 0.92423933 1.         0.43024569]]\n",
            "[[0.00948494 0.25532472 0.87837993 0.5541098  0.18408274 0.44521908]\n",
            " [0.2728101  0.20145779 0.408393   0.48159217 0.46078031 0.59339086]\n",
            " [0.04011178 0.48001356 0.94858663 0.00599443 0.1715588  0.00201852]\n",
            " [0.09101957 0.38419118 0.64263538 0.74925986 0.43311592 0.70010833]\n",
            " [0.28101867 0.67249995 0.84091087 0.69294958 0.66887244 0.30236865]]\n"
          ]
        }
      ]
    },
    {
      "cell_type": "code",
      "source": [],
      "metadata": {
        "id": "YtFVwE2wl9GA"
      },
      "execution_count": null,
      "outputs": []
    }
  ]
}